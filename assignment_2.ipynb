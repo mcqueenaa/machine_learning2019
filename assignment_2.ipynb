{
  "nbformat": 4,
  "nbformat_minor": 0,
  "metadata": {
    "colab": {
      "name": "assignment_2.ipynb",
      "provenance": [],
      "collapsed_sections": []
    },
    "kernelspec": {
      "name": "python3",
      "display_name": "Python 3"
    }
  },
  "cells": [
    {
      "cell_type": "code",
      "metadata": {
        "id": "_qxMzSllXtSR",
        "colab_type": "code",
        "colab": {}
      },
      "source": [
        "import numpy as np\n",
        "import matplotlib.pyplot as plt\n",
        "import pandas as pd\n",
        "from sklearn.model_selection import train_test_split\n",
        "from sklearn.linear_model import LogisticRegression\n",
        "from sklearn.neighbors import KNeighborsClassifier\n",
        "from sklearn.model_selection import GridSearchCV"
      ],
      "execution_count": 0,
      "outputs": []
    },
    {
      "cell_type": "code",
      "metadata": {
        "id": "oIoSBAXRPyCV",
        "colab_type": "code",
        "colab": {}
      },
      "source": [
        "## gets accuracy of k-nn\n",
        "\n",
        "def knn_acc(data):\n",
        "  ## training pipeline\n",
        "  X_train, X_test, y_train, y_test = train_test_split(data[[0,1]], \n",
        "                                                      data['values'], \n",
        "                                                      test_size=0.4, \n",
        "                                                      random_state=42)\n",
        "  knn = KNeighborsClassifier()\n",
        "  \n",
        "  gs_knn = GridSearchCV(knn, {'n_neighbors': list(range(1, 31))}, cv=10)\n",
        "  gs_knn.fit(X_train, y=y_train)\n",
        "  \n",
        "  ## estimate accuracy\n",
        "  knn_score = gs_knn.best_estimator_.score(X_test, y_test)\n",
        "  return knn_score"
      ],
      "execution_count": 0,
      "outputs": []
    },
    {
      "cell_type": "markdown",
      "metadata": {
        "id": "bYGmfuFwYVOS",
        "colab_type": "text"
      },
      "source": [
        "**Task 1**"
      ]
    },
    {
      "cell_type": "markdown",
      "metadata": {
        "id": "_gT1VI33YYd5",
        "colab_type": "text"
      },
      "source": [
        "  Чтобы логит регрессия работала лучше, чем k-nn, необходимо сделать так, чтобы точки хорошо делились на классы прямой линией, но при этом точки, относящиеся к разным классам должны быть расположены очень близко, чтобы метод ближайших соседей видел среди соседей равное количество и \"своих\", и \"чужих\" и путался в них.\n",
        "  Создадим датасет, в котором будут содержаться точки, находящиеся на 0.5 выше и на 0.5 ниже главной диагонали (проходящей через точку (0,0) под углом 45 градусов) в диапазоне [-2000.5, 1999.5] по оси X. \n",
        "  Точки, находящиеся выше главной диагонали отнесем к классу 1, а те, что ниже - к классу 0. Тогда логит регрессия отлично разделит эти точки на классы как раз-таки главной диагональю, а k-NN запутается."
      ]
    },
    {
      "cell_type": "code",
      "metadata": {
        "id": "EB5ConNQrNJr",
        "colab_type": "code",
        "colab": {}
      },
      "source": [
        "data1 = []\n",
        "for i in range(-2000, 2000):\n",
        "  data1.append((i-0.5, i, 1))\n",
        "  data1.append((i-0.5, i-0.5, 0))\n",
        "  data1.append((i, i-0.5, 0))\n",
        "  data1.append((i, i+0.5, 1))"
      ],
      "execution_count": 0,
      "outputs": []
    },
    {
      "cell_type": "code",
      "metadata": {
        "id": "eNEGcPvcuIjX",
        "colab_type": "code",
        "outputId": "cd676896-8c95-40c4-bec0-228d5a4d7bc6",
        "colab": {
          "base_uri": "https://localhost:8080/",
          "height": 35
        }
      },
      "source": [
        "len(data1)"
      ],
      "execution_count": 155,
      "outputs": [
        {
          "output_type": "execute_result",
          "data": {
            "text/plain": [
              "16000"
            ]
          },
          "metadata": {
            "tags": []
          },
          "execution_count": 155
        }
      ]
    },
    {
      "cell_type": "code",
      "metadata": {
        "id": "WL__P0c1tmLD",
        "colab_type": "code",
        "outputId": "e0e22073-646a-40e1-c41b-f13da503cb50",
        "colab": {
          "base_uri": "https://localhost:8080/",
          "height": 200
        }
      },
      "source": [
        "data1 = pd.DataFrame(data1)\n",
        "data1.head()"
      ],
      "execution_count": 156,
      "outputs": [
        {
          "output_type": "execute_result",
          "data": {
            "text/html": [
              "<div>\n",
              "<style scoped>\n",
              "    .dataframe tbody tr th:only-of-type {\n",
              "        vertical-align: middle;\n",
              "    }\n",
              "\n",
              "    .dataframe tbody tr th {\n",
              "        vertical-align: top;\n",
              "    }\n",
              "\n",
              "    .dataframe thead th {\n",
              "        text-align: right;\n",
              "    }\n",
              "</style>\n",
              "<table border=\"1\" class=\"dataframe\">\n",
              "  <thead>\n",
              "    <tr style=\"text-align: right;\">\n",
              "      <th></th>\n",
              "      <th>0</th>\n",
              "      <th>1</th>\n",
              "      <th>2</th>\n",
              "    </tr>\n",
              "  </thead>\n",
              "  <tbody>\n",
              "    <tr>\n",
              "      <th>0</th>\n",
              "      <td>-2000.5</td>\n",
              "      <td>-2000.0</td>\n",
              "      <td>1</td>\n",
              "    </tr>\n",
              "    <tr>\n",
              "      <th>1</th>\n",
              "      <td>-2000.5</td>\n",
              "      <td>-2000.5</td>\n",
              "      <td>0</td>\n",
              "    </tr>\n",
              "    <tr>\n",
              "      <th>2</th>\n",
              "      <td>-2000.0</td>\n",
              "      <td>-2000.5</td>\n",
              "      <td>0</td>\n",
              "    </tr>\n",
              "    <tr>\n",
              "      <th>3</th>\n",
              "      <td>-2000.0</td>\n",
              "      <td>-1999.5</td>\n",
              "      <td>1</td>\n",
              "    </tr>\n",
              "    <tr>\n",
              "      <th>4</th>\n",
              "      <td>-1999.5</td>\n",
              "      <td>-1999.0</td>\n",
              "      <td>1</td>\n",
              "    </tr>\n",
              "  </tbody>\n",
              "</table>\n",
              "</div>"
            ],
            "text/plain": [
              "        0       1  2\n",
              "0 -2000.5 -2000.0  1\n",
              "1 -2000.5 -2000.5  0\n",
              "2 -2000.0 -2000.5  0\n",
              "3 -2000.0 -1999.5  1\n",
              "4 -1999.5 -1999.0  1"
            ]
          },
          "metadata": {
            "tags": []
          },
          "execution_count": 156
        }
      ]
    },
    {
      "cell_type": "code",
      "metadata": {
        "id": "aIKUCggN3Pv-",
        "colab_type": "code",
        "colab": {
          "base_uri": "https://localhost:8080/",
          "height": 200
        },
        "outputId": "8dd9e332-bc39-4b72-c0fc-81913f7e6a97"
      },
      "source": [
        "data1.tail()"
      ],
      "execution_count": 157,
      "outputs": [
        {
          "output_type": "execute_result",
          "data": {
            "text/html": [
              "<div>\n",
              "<style scoped>\n",
              "    .dataframe tbody tr th:only-of-type {\n",
              "        vertical-align: middle;\n",
              "    }\n",
              "\n",
              "    .dataframe tbody tr th {\n",
              "        vertical-align: top;\n",
              "    }\n",
              "\n",
              "    .dataframe thead th {\n",
              "        text-align: right;\n",
              "    }\n",
              "</style>\n",
              "<table border=\"1\" class=\"dataframe\">\n",
              "  <thead>\n",
              "    <tr style=\"text-align: right;\">\n",
              "      <th></th>\n",
              "      <th>0</th>\n",
              "      <th>1</th>\n",
              "      <th>2</th>\n",
              "    </tr>\n",
              "  </thead>\n",
              "  <tbody>\n",
              "    <tr>\n",
              "      <th>15995</th>\n",
              "      <td>1998.0</td>\n",
              "      <td>1998.5</td>\n",
              "      <td>1</td>\n",
              "    </tr>\n",
              "    <tr>\n",
              "      <th>15996</th>\n",
              "      <td>1998.5</td>\n",
              "      <td>1999.0</td>\n",
              "      <td>1</td>\n",
              "    </tr>\n",
              "    <tr>\n",
              "      <th>15997</th>\n",
              "      <td>1998.5</td>\n",
              "      <td>1998.5</td>\n",
              "      <td>0</td>\n",
              "    </tr>\n",
              "    <tr>\n",
              "      <th>15998</th>\n",
              "      <td>1999.0</td>\n",
              "      <td>1998.5</td>\n",
              "      <td>0</td>\n",
              "    </tr>\n",
              "    <tr>\n",
              "      <th>15999</th>\n",
              "      <td>1999.0</td>\n",
              "      <td>1999.5</td>\n",
              "      <td>1</td>\n",
              "    </tr>\n",
              "  </tbody>\n",
              "</table>\n",
              "</div>"
            ],
            "text/plain": [
              "            0       1  2\n",
              "15995  1998.0  1998.5  1\n",
              "15996  1998.5  1999.0  1\n",
              "15997  1998.5  1998.5  0\n",
              "15998  1999.0  1998.5  0\n",
              "15999  1999.0  1999.5  1"
            ]
          },
          "metadata": {
            "tags": []
          },
          "execution_count": 157
        }
      ]
    },
    {
      "cell_type": "code",
      "metadata": {
        "id": "tjojOiLeuVxJ",
        "colab_type": "code",
        "colab": {}
      },
      "source": [
        "values1 = []\n",
        "for i in data1[2]:\n",
        "  values1.append(i)"
      ],
      "execution_count": 0,
      "outputs": []
    },
    {
      "cell_type": "markdown",
      "metadata": {
        "id": "wMTkdSUE3dQM",
        "colab_type": "text"
      },
      "source": [
        "Из-за того, что график рисуется маленьким и точки очень близко друг к другу, кажется,  что на нем одна коричневая прямая, но на самом деле их две: сиреневая и желтая."
      ]
    },
    {
      "cell_type": "code",
      "metadata": {
        "id": "CDWBPa58uQky",
        "colab_type": "code",
        "outputId": "49cb6616-8c01-4bfd-8ecc-006b7fdf213c",
        "colab": {
          "base_uri": "https://localhost:8080/",
          "height": 304
        }
      },
      "source": [
        "## scatter plot\n",
        "\n",
        "%matplotlib inline\n",
        "\n",
        "fig = plt.figure(figsize=(20,10))\n",
        "fig, ax = plt.subplots()\n",
        "\n",
        "ax.scatter(data1[0], data1[1], c = values1, s=0.2, alpha=0.2)"
      ],
      "execution_count": 159,
      "outputs": [
        {
          "output_type": "execute_result",
          "data": {
            "text/plain": [
              "<matplotlib.collections.PathCollection at 0x7efc590aacf8>"
            ]
          },
          "metadata": {
            "tags": []
          },
          "execution_count": 159
        },
        {
          "output_type": "display_data",
          "data": {
            "text/plain": [
              "<Figure size 1440x720 with 0 Axes>"
            ]
          },
          "metadata": {
            "tags": []
          }
        },
        {
          "output_type": "display_data",
          "data": {
            "image/png": "[encoded data removed]",
            "text/plain": [
              "<Figure size 432x288 with 1 Axes>"
            ]
          },
          "metadata": {
            "tags": []
          }
        }
      ]
    },
    {
      "cell_type": "code",
      "metadata": {
        "id": "Dmu8Q8uvw3BK",
        "colab_type": "code",
        "outputId": "f23cc460-9719-4068-b22e-2000dd58e994",
        "colab": {
          "base_uri": "https://localhost:8080/",
          "height": 200
        }
      },
      "source": [
        "data1 = data1.rename(columns={2: \"values\"})\n",
        "data1.head()"
      ],
      "execution_count": 160,
      "outputs": [
        {
          "output_type": "execute_result",
          "data": {
            "text/html": [
              "<div>\n",
              "<style scoped>\n",
              "    .dataframe tbody tr th:only-of-type {\n",
              "        vertical-align: middle;\n",
              "    }\n",
              "\n",
              "    .dataframe tbody tr th {\n",
              "        vertical-align: top;\n",
              "    }\n",
              "\n",
              "    .dataframe thead th {\n",
              "        text-align: right;\n",
              "    }\n",
              "</style>\n",
              "<table border=\"1\" class=\"dataframe\">\n",
              "  <thead>\n",
              "    <tr style=\"text-align: right;\">\n",
              "      <th></th>\n",
              "      <th>0</th>\n",
              "      <th>1</th>\n",
              "      <th>values</th>\n",
              "    </tr>\n",
              "  </thead>\n",
              "  <tbody>\n",
              "    <tr>\n",
              "      <th>0</th>\n",
              "      <td>-2000.5</td>\n",
              "      <td>-2000.0</td>\n",
              "      <td>1</td>\n",
              "    </tr>\n",
              "    <tr>\n",
              "      <th>1</th>\n",
              "      <td>-2000.5</td>\n",
              "      <td>-2000.5</td>\n",
              "      <td>0</td>\n",
              "    </tr>\n",
              "    <tr>\n",
              "      <th>2</th>\n",
              "      <td>-2000.0</td>\n",
              "      <td>-2000.5</td>\n",
              "      <td>0</td>\n",
              "    </tr>\n",
              "    <tr>\n",
              "      <th>3</th>\n",
              "      <td>-2000.0</td>\n",
              "      <td>-1999.5</td>\n",
              "      <td>1</td>\n",
              "    </tr>\n",
              "    <tr>\n",
              "      <th>4</th>\n",
              "      <td>-1999.5</td>\n",
              "      <td>-1999.0</td>\n",
              "      <td>1</td>\n",
              "    </tr>\n",
              "  </tbody>\n",
              "</table>\n",
              "</div>"
            ],
            "text/plain": [
              "        0       1  values\n",
              "0 -2000.5 -2000.0       1\n",
              "1 -2000.5 -2000.5       0\n",
              "2 -2000.0 -2000.5       0\n",
              "3 -2000.0 -1999.5       1\n",
              "4 -1999.5 -1999.0       1"
            ]
          },
          "metadata": {
            "tags": []
          },
          "execution_count": 160
        }
      ]
    },
    {
      "cell_type": "code",
      "metadata": {
        "id": "9WwLUTwGyAqH",
        "colab_type": "code",
        "colab": {}
      },
      "source": [
        "## gets accuracy of logistic regression\n",
        "\n",
        "def logreg_acc1(data):\n",
        "  ## training pipeline\n",
        "  X_train, X_test, y_train, y_test = train_test_split(data[[0,1]], \n",
        "                                                      data['values'], \n",
        "                                                      test_size=0.4, \n",
        "                                                      random_state=42)\n",
        "  lr = LogisticRegression()\n",
        "   \n",
        "  tuned_parameters = {'C': [1e-1, 1]}\n",
        "  gs_lr = GridSearchCV(lr, tuned_parameters, cv=10)\n",
        "  gs_lr.fit(X_train, y=y_train)\n",
        "  \n",
        "  ## estimate accuracy\n",
        "  lr_score = gs_lr.best_estimator_.score(X_test, y_test)\n",
        "  return lr_score"
      ],
      "execution_count": 0,
      "outputs": []
    },
    {
      "cell_type": "code",
      "metadata": {
        "id": "qZHpR_O8dYnZ",
        "colab_type": "code",
        "colab": {}
      },
      "source": [
        "# import warnings filter\n",
        "from warnings import simplefilter\n",
        "# ignore all future warnings\n",
        "simplefilter(action='ignore', category=FutureWarning)\n",
        "\n",
        "lr_accuracy = logreg_acc1(data1)"
      ],
      "execution_count": 0,
      "outputs": []
    },
    {
      "cell_type": "code",
      "metadata": {
        "colab_type": "code",
        "id": "i2UuTIio0rj0",
        "colab": {}
      },
      "source": [
        "knn_accuracy = knn_acc(data1)"
      ],
      "execution_count": 0,
      "outputs": []
    },
    {
      "cell_type": "code",
      "metadata": {
        "id": "IQzYoSqJb1Kj",
        "colab_type": "code",
        "outputId": "e0b90f95-e4ed-4520-81ac-0b15248c1bb7",
        "colab": {
          "base_uri": "https://localhost:8080/",
          "height": 52
        }
      },
      "source": [
        "print('Accuracy of Logistic Regression:', lr_accuracy)\n",
        "print('Accuracy of k-NN:', knn_accuracy)"
      ],
      "execution_count": 164,
      "outputs": [
        {
          "output_type": "stream",
          "text": [
            "Accuracy of Logistic Regression: 1.0\n",
            "Accuracy of k-NN: 0.45484375\n"
          ],
          "name": "stdout"
        }
      ]
    },
    {
      "cell_type": "markdown",
      "metadata": {
        "id": "KfZj9RSz31MR",
        "colab_type": "text"
      },
      "source": [
        "Что и требовалось доказать: из-за того, что точки слишком близко k-NN запутался, а логит регрессия прекрасно разделила их диагональю."
      ]
    },
    {
      "cell_type": "markdown",
      "metadata": {
        "id": "F8zUy4TinWT2",
        "colab_type": "text"
      },
      "source": [
        "**Task 2**"
      ]
    },
    {
      "cell_type": "markdown",
      "metadata": {
        "id": "6ZQvEIlPVTzm",
        "colab_type": "text"
      },
      "source": [
        "Чтобы метод ближайших соседей сработал лучше логистической регрессии, нужно отнести точки к разным классам так, чтобы их нельзя было хорошо разделить одной прямой линией. Дадим точкам из середины круга значение 1, а точкам дальше середины - значение 0. "
      ]
    },
    {
      "cell_type": "code",
      "metadata": {
        "id": "-kE4CbK4zVjO",
        "colab_type": "code",
        "colab": {}
      },
      "source": [
        "## gets accuracy of logistic regression\n",
        "\n",
        "def logreg_acc(data):\n",
        "  ## training pipeline\n",
        "  X_train, X_test, y_train, y_test = train_test_split(data[[0,1]], \n",
        "                                                      data['values'], \n",
        "                                                      test_size=0.4, \n",
        "                                                      random_state=42)\n",
        "  lr = LogisticRegression()\n",
        "   \n",
        "  tuned_parameters = {\"C\":np.logspace(-3,3,7), \"penalty\":[\"l1\",\"l2\"]}\n",
        "  gs_lr = GridSearchCV(lr, tuned_parameters, cv=10)\n",
        "  gs_lr.fit(X_train, y=y_train)\n",
        "  \n",
        "  ## estimate accuracy\n",
        "  lr_score = gs_lr.best_estimator_.score(X_test, y_test)\n",
        "  return lr_score"
      ],
      "execution_count": 0,
      "outputs": []
    },
    {
      "cell_type": "code",
      "metadata": {
        "id": "14xew9mwzVu6",
        "colab_type": "code",
        "colab": {}
      },
      "source": [
        "## создаем датасет, содержащий координаты точек, \n",
        "## лежащих на и внутри окружности с радиусом = 500\n",
        "\n",
        "p = []\n",
        "for i in range(1, 1002, 10):\n",
        "  p.append(i)\n",
        "  \n",
        "r = []\n",
        "for i in range(0, 501, 5):\n",
        "  r.append(i)\n",
        "  \n",
        "def rtpairs(r, p):\n",
        "\n",
        "    for i in range(len(r)):\n",
        "       for j in range(p[i]):    \n",
        "        yield r[i], j*(2 * np.pi / p[i])\n",
        "        \n",
        "data = []\n",
        "for i, j in rtpairs(r, p):\n",
        "  data.append((i * np.cos(j), i * np.sin(j)))\n",
        "\n",
        "data = pd.DataFrame(data)"
      ],
      "execution_count": 0,
      "outputs": []
    },
    {
      "cell_type": "code",
      "metadata": {
        "id": "quOO3eb70Grt",
        "colab_type": "code",
        "colab": {
          "base_uri": "https://localhost:8080/",
          "height": 200
        },
        "outputId": "b593345a-7a4d-40cc-b7d9-b87829e7c431"
      },
      "source": [
        "data.head()"
      ],
      "execution_count": 167,
      "outputs": [
        {
          "output_type": "execute_result",
          "data": {
            "text/html": [
              "<div>\n",
              "<style scoped>\n",
              "    .dataframe tbody tr th:only-of-type {\n",
              "        vertical-align: middle;\n",
              "    }\n",
              "\n",
              "    .dataframe tbody tr th {\n",
              "        vertical-align: top;\n",
              "    }\n",
              "\n",
              "    .dataframe thead th {\n",
              "        text-align: right;\n",
              "    }\n",
              "</style>\n",
              "<table border=\"1\" class=\"dataframe\">\n",
              "  <thead>\n",
              "    <tr style=\"text-align: right;\">\n",
              "      <th></th>\n",
              "      <th>0</th>\n",
              "      <th>1</th>\n",
              "    </tr>\n",
              "  </thead>\n",
              "  <tbody>\n",
              "    <tr>\n",
              "      <th>0</th>\n",
              "      <td>0.000000</td>\n",
              "      <td>0.000000</td>\n",
              "    </tr>\n",
              "    <tr>\n",
              "      <th>1</th>\n",
              "      <td>5.000000</td>\n",
              "      <td>0.000000</td>\n",
              "    </tr>\n",
              "    <tr>\n",
              "      <th>2</th>\n",
              "      <td>4.206268</td>\n",
              "      <td>2.703204</td>\n",
              "    </tr>\n",
              "    <tr>\n",
              "      <th>3</th>\n",
              "      <td>2.077075</td>\n",
              "      <td>4.548160</td>\n",
              "    </tr>\n",
              "    <tr>\n",
              "      <th>4</th>\n",
              "      <td>-0.711574</td>\n",
              "      <td>4.949107</td>\n",
              "    </tr>\n",
              "  </tbody>\n",
              "</table>\n",
              "</div>"
            ],
            "text/plain": [
              "          0         1\n",
              "0  0.000000  0.000000\n",
              "1  5.000000  0.000000\n",
              "2  4.206268  2.703204\n",
              "3  2.077075  4.548160\n",
              "4 -0.711574  4.949107"
            ]
          },
          "metadata": {
            "tags": []
          },
          "execution_count": 167
        }
      ]
    },
    {
      "cell_type": "code",
      "metadata": {
        "id": "SijjDBNP2KAU",
        "colab_type": "code",
        "colab": {}
      },
      "source": [
        "values = []\n",
        "for row in data.itertuples():\n",
        "  if row[1] < 250 and row[1] > -250 and row[2] < 250 and row[2] > -250:\n",
        "    values.append(1)\n",
        "  else:\n",
        "    values.append(0)"
      ],
      "execution_count": 0,
      "outputs": []
    },
    {
      "cell_type": "code",
      "metadata": {
        "id": "I6l-RICOAHDA",
        "colab_type": "code",
        "outputId": "a975565b-892f-486c-bd4c-1c22e41f1999",
        "colab": {
          "base_uri": "https://localhost:8080/",
          "height": 35
        }
      },
      "source": [
        "len(values)"
      ],
      "execution_count": 169,
      "outputs": [
        {
          "output_type": "execute_result",
          "data": {
            "text/plain": [
              "50601"
            ]
          },
          "metadata": {
            "tags": []
          },
          "execution_count": 169
        }
      ]
    },
    {
      "cell_type": "code",
      "metadata": {
        "id": "UlguDxsZAKfV",
        "colab_type": "code",
        "outputId": "f48f2603-d342-4a88-de9a-de33ffee78da",
        "colab": {
          "base_uri": "https://localhost:8080/",
          "height": 200
        }
      },
      "source": [
        "data2 = data.copy()\n",
        "data2['values'] = values\n",
        "data2.head()"
      ],
      "execution_count": 170,
      "outputs": [
        {
          "output_type": "execute_result",
          "data": {
            "text/html": [
              "<div>\n",
              "<style scoped>\n",
              "    .dataframe tbody tr th:only-of-type {\n",
              "        vertical-align: middle;\n",
              "    }\n",
              "\n",
              "    .dataframe tbody tr th {\n",
              "        vertical-align: top;\n",
              "    }\n",
              "\n",
              "    .dataframe thead th {\n",
              "        text-align: right;\n",
              "    }\n",
              "</style>\n",
              "<table border=\"1\" class=\"dataframe\">\n",
              "  <thead>\n",
              "    <tr style=\"text-align: right;\">\n",
              "      <th></th>\n",
              "      <th>0</th>\n",
              "      <th>1</th>\n",
              "      <th>values</th>\n",
              "    </tr>\n",
              "  </thead>\n",
              "  <tbody>\n",
              "    <tr>\n",
              "      <th>0</th>\n",
              "      <td>0.000000</td>\n",
              "      <td>0.000000</td>\n",
              "      <td>1</td>\n",
              "    </tr>\n",
              "    <tr>\n",
              "      <th>1</th>\n",
              "      <td>5.000000</td>\n",
              "      <td>0.000000</td>\n",
              "      <td>1</td>\n",
              "    </tr>\n",
              "    <tr>\n",
              "      <th>2</th>\n",
              "      <td>4.206268</td>\n",
              "      <td>2.703204</td>\n",
              "      <td>1</td>\n",
              "    </tr>\n",
              "    <tr>\n",
              "      <th>3</th>\n",
              "      <td>2.077075</td>\n",
              "      <td>4.548160</td>\n",
              "      <td>1</td>\n",
              "    </tr>\n",
              "    <tr>\n",
              "      <th>4</th>\n",
              "      <td>-0.711574</td>\n",
              "      <td>4.949107</td>\n",
              "      <td>1</td>\n",
              "    </tr>\n",
              "  </tbody>\n",
              "</table>\n",
              "</div>"
            ],
            "text/plain": [
              "          0         1  values\n",
              "0  0.000000  0.000000       1\n",
              "1  5.000000  0.000000       1\n",
              "2  4.206268  2.703204       1\n",
              "3  2.077075  4.548160       1\n",
              "4 -0.711574  4.949107       1"
            ]
          },
          "metadata": {
            "tags": []
          },
          "execution_count": 170
        }
      ]
    },
    {
      "cell_type": "code",
      "metadata": {
        "id": "HNEkPqUbA0oT",
        "colab_type": "code",
        "outputId": "a704f5ea-f756-4c14-f86e-ad9a65aece05",
        "colab": {
          "base_uri": "https://localhost:8080/",
          "height": 287
        }
      },
      "source": [
        "## scatter plot\n",
        "\n",
        "%matplotlib inline\n",
        "\n",
        "fig, ax = plt.subplots()\n",
        "\n",
        "ax.scatter(data2[0], data2[1], c = values, s=0.2, alpha=0.2)"
      ],
      "execution_count": 171,
      "outputs": [
        {
          "output_type": "execute_result",
          "data": {
            "text/plain": [
              "<matplotlib.collections.PathCollection at 0x7efc590d4f98>"
            ]
          },
          "metadata": {
            "tags": []
          },
          "execution_count": 171
        },
        {
          "output_type": "display_data",
          "data": {
            "image/png": "[encoded data removed]",
            "text/plain": [
              "<Figure size 432x288 with 1 Axes>"
            ]
          },
          "metadata": {
            "tags": []
          }
        }
      ]
    },
    {
      "cell_type": "code",
      "metadata": {
        "id": "KUkL140xMnPG",
        "colab_type": "code",
        "colab": {}
      },
      "source": [
        "# import warnings filter\n",
        "from warnings import simplefilter\n",
        "# ignore all future warnings\n",
        "simplefilter(action='ignore', category=FutureWarning)\n",
        "\n",
        "lr_accuracy = logreg_acc(data2)\n",
        "knn_accuracy = knn_acc(data2)"
      ],
      "execution_count": 0,
      "outputs": []
    },
    {
      "cell_type": "code",
      "metadata": {
        "id": "v2a7DFnX4J2R",
        "colab_type": "code",
        "colab": {
          "base_uri": "https://localhost:8080/",
          "height": 52
        },
        "outputId": "b063f63d-3b45-4465-8418-a9eb318ff9b4"
      },
      "source": [
        "print('Accuracy of Logistic Regression:', lr_accuracy)\n",
        "print('Accuracy of k-NN:', knn_accuracy)"
      ],
      "execution_count": 173,
      "outputs": [
        {
          "output_type": "stream",
          "text": [
            "Accuracy of Logistic Regression: 0.6794130724766563\n",
            "Accuracy of k-NN: 0.9962452448001581\n"
          ],
          "name": "stdout"
        }
      ]
    },
    {
      "cell_type": "markdown",
      "metadata": {
        "id": "HWRf7AFMYRo6",
        "colab_type": "text"
      },
      "source": [
        "Итак, логит регрессия работает гораздо хуже метода ближайших соседей, когда данные невозможно разделить на классы одной прямой."
      ]
    },
    {
      "cell_type": "markdown",
      "metadata": {
        "id": "dWARTaQq4SZY",
        "colab_type": "text"
      },
      "source": [
        "**Task 3**"
      ]
    },
    {
      "cell_type": "code",
      "metadata": {
        "id": "Sr-52ibtXhsJ",
        "colab_type": "code",
        "colab": {}
      },
      "source": [
        ""
      ],
      "execution_count": 0,
      "outputs": []
    }
  ]
}