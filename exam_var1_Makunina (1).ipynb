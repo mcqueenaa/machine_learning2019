{
  "nbformat": 4,
  "nbformat_minor": 0,
  "metadata": {
    "colab": {
      "name": "exam_var1 Makunina.ipynb",
      "provenance": []
    },
    "kernelspec": {
      "name": "python3",
      "display_name": "Python 3"
    }
  },
  "cells": [
    {
      "cell_type": "markdown",
      "metadata": {
        "id": "_-D6emiWDSxy",
        "colab_type": "text"
      },
      "source": [
        "5. When a decision tree for regression performes worse than linear regression?  \n",
        "\n",
        "Decision trees work better when the dataset is non-linear, and they handle collinearity better. They do a better work with categorical variables, with a mix of categorical and numerical features and with missing features"
      ]
    },
    {
      "cell_type": "markdown",
      "metadata": {
        "id": "ZNGCWyI5DhbV",
        "colab_type": "text"
      },
      "source": [
        "# Задача"
      ]
    },
    {
      "cell_type": "markdown",
      "metadata": {
        "id": "s7tvG8Clz9Tt",
        "colab_type": "text"
      },
      "source": [
        "Develop a model for predicting review rating.\n",
        "Multiclass classification into 5 classes\n",
        "Score: F1 with macro averaging\n",
        "You are forbidden to use test dataset for any kind of training.\n",
        "Remember proper training pipeline.\n",
        "If you are not using default params in the models, you have to use some validation scheme to justify them.\n",
        "\n",
        "Use random_state or seed params - your experiment must be reprodusible."
      ]
    },
    {
      "cell_type": "code",
      "metadata": {
        "id": "IfH57Eauzuyv",
        "colab_type": "code",
        "colab": {}
      },
      "source": [
        "import pandas as pd\n",
        "import numpy as np\n",
        "\n",
        "SEED=1337\n",
        "np.random.seed(SEED)"
      ],
      "execution_count": 0,
      "outputs": []
    },
    {
      "cell_type": "code",
      "metadata": {
        "id": "OZQ7zsFfz0Ck",
        "colab_type": "code",
        "colab": {
          "base_uri": "https://localhost:8080/",
          "height": 35
        },
        "outputId": "4e33cc20-c839-40ec-f81c-bb7f217fcd9a"
      },
      "source": [
        "df_train = pd.read_csv('train.csv')\n",
        "df_test = pd.read_csv('test.csv')\n",
        "df_train.shape"
      ],
      "execution_count": 6,
      "outputs": [
        {
          "output_type": "execute_result",
          "data": {
            "text/plain": [
              "(48192, 3)"
            ]
          },
          "metadata": {
            "tags": []
          },
          "execution_count": 6
        }
      ]
    },
    {
      "cell_type": "code",
      "metadata": {
        "id": "cdjjjC4t43n1",
        "colab_type": "code",
        "colab": {
          "base_uri": "https://localhost:8080/",
          "height": 35
        },
        "outputId": "cea60b50-2107-4a11-90de-67f9211bcfca"
      },
      "source": [
        "df_test.shape"
      ],
      "execution_count": 15,
      "outputs": [
        {
          "output_type": "execute_result",
          "data": {
            "text/plain": [
              "(5355, 3)"
            ]
          },
          "metadata": {
            "tags": []
          },
          "execution_count": 15
        }
      ]
    },
    {
      "cell_type": "code",
      "metadata": {
        "id": "t-zKEUP-z7mN",
        "colab_type": "code",
        "colab": {
          "base_uri": "https://localhost:8080/",
          "height": 202
        },
        "outputId": "2c6692cc-f2e9-4d2c-f5ca-8c13c9b96f24"
      },
      "source": [
        "df_train.head()"
      ],
      "execution_count": 7,
      "outputs": [
        {
          "output_type": "execute_result",
          "data": {
            "text/html": [
              "<div>\n",
              "<style scoped>\n",
              "    .dataframe tbody tr th:only-of-type {\n",
              "        vertical-align: middle;\n",
              "    }\n",
              "\n",
              "    .dataframe tbody tr th {\n",
              "        vertical-align: top;\n",
              "    }\n",
              "\n",
              "    .dataframe thead th {\n",
              "        text-align: right;\n",
              "    }\n",
              "</style>\n",
              "<table border=\"1\" class=\"dataframe\">\n",
              "  <thead>\n",
              "    <tr style=\"text-align: right;\">\n",
              "      <th></th>\n",
              "      <th>review</th>\n",
              "      <th>title</th>\n",
              "      <th>target</th>\n",
              "    </tr>\n",
              "  </thead>\n",
              "  <tbody>\n",
              "    <tr>\n",
              "      <th>0</th>\n",
              "      <td>The staff was very friendly, the breakfast ver...</td>\n",
              "      <td>Walker Gem</td>\n",
              "      <td>5</td>\n",
              "    </tr>\n",
              "    <tr>\n",
              "      <th>1</th>\n",
              "      <td>Excellent service - very approachable and prof...</td>\n",
              "      <td>Excellent Service</td>\n",
              "      <td>4</td>\n",
              "    </tr>\n",
              "    <tr>\n",
              "      <th>2</th>\n",
              "      <td>Really a top notch place to spend a day at the...</td>\n",
              "      <td>Good location, warm and friendly staff</td>\n",
              "      <td>5</td>\n",
              "    </tr>\n",
              "    <tr>\n",
              "      <th>3</th>\n",
              "      <td>a little noisy, there was a false fire alarm a...</td>\n",
              "      <td>nice hotel,</td>\n",
              "      <td>4</td>\n",
              "    </tr>\n",
              "    <tr>\n",
              "      <th>4</th>\n",
              "      <td>Place had too many animals and I'm allergic to...</td>\n",
              "      <td>Experience</td>\n",
              "      <td>3</td>\n",
              "    </tr>\n",
              "  </tbody>\n",
              "</table>\n",
              "</div>"
            ],
            "text/plain": [
              "                                              review  ... target\n",
              "0  The staff was very friendly, the breakfast ver...  ...      5\n",
              "1  Excellent service - very approachable and prof...  ...      4\n",
              "2  Really a top notch place to spend a day at the...  ...      5\n",
              "3  a little noisy, there was a false fire alarm a...  ...      4\n",
              "4  Place had too many animals and I'm allergic to...  ...      3\n",
              "\n",
              "[5 rows x 3 columns]"
            ]
          },
          "metadata": {
            "tags": []
          },
          "execution_count": 7
        }
      ]
    },
    {
      "cell_type": "code",
      "metadata": {
        "id": "rliFLxHb1Z8J",
        "colab_type": "code",
        "colab": {
          "base_uri": "https://localhost:8080/",
          "height": 202
        },
        "outputId": "f1c70f8e-0205-42c6-e13c-c10833062a86"
      },
      "source": [
        "df_test.head()"
      ],
      "execution_count": 8,
      "outputs": [
        {
          "output_type": "execute_result",
          "data": {
            "text/html": [
              "<div>\n",
              "<style scoped>\n",
              "    .dataframe tbody tr th:only-of-type {\n",
              "        vertical-align: middle;\n",
              "    }\n",
              "\n",
              "    .dataframe tbody tr th {\n",
              "        vertical-align: top;\n",
              "    }\n",
              "\n",
              "    .dataframe thead th {\n",
              "        text-align: right;\n",
              "    }\n",
              "</style>\n",
              "<table border=\"1\" class=\"dataframe\">\n",
              "  <thead>\n",
              "    <tr style=\"text-align: right;\">\n",
              "      <th></th>\n",
              "      <th>review</th>\n",
              "      <th>title</th>\n",
              "      <th>target</th>\n",
              "    </tr>\n",
              "  </thead>\n",
              "  <tbody>\n",
              "    <tr>\n",
              "      <th>0</th>\n",
              "      <td>I am from old town, and I stayed in this hotel...</td>\n",
              "      <td>Incredible Hotel</td>\n",
              "      <td>5</td>\n",
              "    </tr>\n",
              "    <tr>\n",
              "      <th>1</th>\n",
              "      <td>We have been coming to the Ocean Park Inn for ...</td>\n",
              "      <td>We Love this beach front Inn</td>\n",
              "      <td>5</td>\n",
              "    </tr>\n",
              "    <tr>\n",
              "      <th>2</th>\n",
              "      <td>Perfect place for a quick get away. We had a q...</td>\n",
              "      <td>Love this place!</td>\n",
              "      <td>5</td>\n",
              "    </tr>\n",
              "    <tr>\n",
              "      <th>3</th>\n",
              "      <td>The room was not the best however, it was good...</td>\n",
              "      <td>Good For One Night Stay...</td>\n",
              "      <td>2</td>\n",
              "    </tr>\n",
              "    <tr>\n",
              "      <th>4</th>\n",
              "      <td>Sous le motif d'une priode hivernale (inaccept...</td>\n",
              "      <td>Moyen</td>\n",
              "      <td>3</td>\n",
              "    </tr>\n",
              "  </tbody>\n",
              "</table>\n",
              "</div>"
            ],
            "text/plain": [
              "                                              review  ... target\n",
              "0  I am from old town, and I stayed in this hotel...  ...      5\n",
              "1  We have been coming to the Ocean Park Inn for ...  ...      5\n",
              "2  Perfect place for a quick get away. We had a q...  ...      5\n",
              "3  The room was not the best however, it was good...  ...      2\n",
              "4  Sous le motif d'une priode hivernale (inaccept...  ...      3\n",
              "\n",
              "[5 rows x 3 columns]"
            ]
          },
          "metadata": {
            "tags": []
          },
          "execution_count": 8
        }
      ]
    },
    {
      "cell_type": "code",
      "metadata": {
        "id": "UBJC88Ei1d01",
        "colab_type": "code",
        "colab": {
          "base_uri": "https://localhost:8080/",
          "height": 87
        },
        "outputId": "7ca5b3b6-c8c0-4f33-8ec2-dad5fcd86719"
      },
      "source": [
        "import nltk \n",
        "from nltk import ngrams\n",
        "from nltk.text import Text \n",
        "nltk.download(\"stopwords\") \n",
        "#--------# \n",
        "from nltk.corpus import stopwords \n",
        "nltk.download('wordnet')\n",
        "from nltk.stem import WordNetLemmatizer\n",
        "from nltk.tokenize import TreebankWordTokenizer\n",
        "\n",
        "#Create lemmatizer and stopwords list \n",
        "english_stopwords = stopwords.words(\"english\")"
      ],
      "execution_count": 51,
      "outputs": [
        {
          "output_type": "stream",
          "text": [
            "[nltk_data] Downloading package stopwords to /root/nltk_data...\n",
            "[nltk_data]   Package stopwords is already up-to-date!\n",
            "[nltk_data] Downloading package wordnet to /root/nltk_data...\n",
            "[nltk_data]   Unzipping corpora/wordnet.zip.\n"
          ],
          "name": "stdout"
        }
      ]
    },
    {
      "cell_type": "code",
      "metadata": {
        "id": "iVUX8hwy-VA4",
        "colab_type": "code",
        "colab": {}
      },
      "source": [
        "import re"
      ],
      "execution_count": 0,
      "outputs": []
    },
    {
      "cell_type": "code",
      "metadata": {
        "id": "dMd47XIV9tty",
        "colab_type": "code",
        "colab": {}
      },
      "source": [
        "tokenizer = TreebankWordTokenizer()"
      ],
      "execution_count": 0,
      "outputs": []
    },
    {
      "cell_type": "code",
      "metadata": {
        "id": "ZSPu8ztx4NuX",
        "colab_type": "code",
        "colab": {}
      },
      "source": [
        "data = df_train"
      ],
      "execution_count": 0,
      "outputs": []
    },
    {
      "cell_type": "code",
      "metadata": {
        "id": "pi6NeSpu61NO",
        "colab_type": "code",
        "colab": {
          "base_uri": "https://localhost:8080/",
          "height": 415
        },
        "outputId": "066dce00-d127-46b0-bd0e-d96ef7f8e7d1"
      },
      "source": [
        "data.append(df_test)"
      ],
      "execution_count": 19,
      "outputs": [
        {
          "output_type": "execute_result",
          "data": {
            "text/html": [
              "<div>\n",
              "<style scoped>\n",
              "    .dataframe tbody tr th:only-of-type {\n",
              "        vertical-align: middle;\n",
              "    }\n",
              "\n",
              "    .dataframe tbody tr th {\n",
              "        vertical-align: top;\n",
              "    }\n",
              "\n",
              "    .dataframe thead th {\n",
              "        text-align: right;\n",
              "    }\n",
              "</style>\n",
              "<table border=\"1\" class=\"dataframe\">\n",
              "  <thead>\n",
              "    <tr style=\"text-align: right;\">\n",
              "      <th></th>\n",
              "      <th>review</th>\n",
              "      <th>title</th>\n",
              "      <th>target</th>\n",
              "    </tr>\n",
              "  </thead>\n",
              "  <tbody>\n",
              "    <tr>\n",
              "      <th>0</th>\n",
              "      <td>The staff was very friendly, the breakfast ver...</td>\n",
              "      <td>Walker Gem</td>\n",
              "      <td>5</td>\n",
              "    </tr>\n",
              "    <tr>\n",
              "      <th>1</th>\n",
              "      <td>Excellent service - very approachable and prof...</td>\n",
              "      <td>Excellent Service</td>\n",
              "      <td>4</td>\n",
              "    </tr>\n",
              "    <tr>\n",
              "      <th>2</th>\n",
              "      <td>Really a top notch place to spend a day at the...</td>\n",
              "      <td>Good location, warm and friendly staff</td>\n",
              "      <td>5</td>\n",
              "    </tr>\n",
              "    <tr>\n",
              "      <th>3</th>\n",
              "      <td>a little noisy, there was a false fire alarm a...</td>\n",
              "      <td>nice hotel,</td>\n",
              "      <td>4</td>\n",
              "    </tr>\n",
              "    <tr>\n",
              "      <th>4</th>\n",
              "      <td>Place had too many animals and I'm allergic to...</td>\n",
              "      <td>Experience</td>\n",
              "      <td>3</td>\n",
              "    </tr>\n",
              "    <tr>\n",
              "      <th>...</th>\n",
              "      <td>...</td>\n",
              "      <td>...</td>\n",
              "      <td>...</td>\n",
              "    </tr>\n",
              "    <tr>\n",
              "      <th>5350</th>\n",
              "      <td>We were in Houston for a family event so sever...</td>\n",
              "      <td>Luxurious, comfortable hotel &amp; spa</td>\n",
              "      <td>5</td>\n",
              "    </tr>\n",
              "    <tr>\n",
              "      <th>5351</th>\n",
              "      <td>I stay in a lot of hotels, especially for work...</td>\n",
              "      <td>One of the best hotel rooms I've stayed in</td>\n",
              "      <td>5</td>\n",
              "    </tr>\n",
              "    <tr>\n",
              "      <th>5352</th>\n",
              "      <td>I really enjoyed my stay at The River Hotel! I...</td>\n",
              "      <td>Great Stay!</td>\n",
              "      <td>4</td>\n",
              "    </tr>\n",
              "    <tr>\n",
              "      <th>5353</th>\n",
              "      <td>Three of us stayed in the hotel during the rec...</td>\n",
              "      <td>A great hotel!!</td>\n",
              "      <td>5</td>\n",
              "    </tr>\n",
              "    <tr>\n",
              "      <th>5354</th>\n",
              "      <td>I rented a suite and was too small..</td>\n",
              "      <td>small rooms!</td>\n",
              "      <td>3</td>\n",
              "    </tr>\n",
              "  </tbody>\n",
              "</table>\n",
              "<p>53547 rows × 3 columns</p>\n",
              "</div>"
            ],
            "text/plain": [
              "                                                 review  ... target\n",
              "0     The staff was very friendly, the breakfast ver...  ...      5\n",
              "1     Excellent service - very approachable and prof...  ...      4\n",
              "2     Really a top notch place to spend a day at the...  ...      5\n",
              "3     a little noisy, there was a false fire alarm a...  ...      4\n",
              "4     Place had too many animals and I'm allergic to...  ...      3\n",
              "...                                                 ...  ...    ...\n",
              "5350  We were in Houston for a family event so sever...  ...      5\n",
              "5351  I stay in a lot of hotels, especially for work...  ...      5\n",
              "5352  I really enjoyed my stay at The River Hotel! I...  ...      4\n",
              "5353  Three of us stayed in the hotel during the rec...  ...      5\n",
              "5354               I rented a suite and was too small..  ...      3\n",
              "\n",
              "[53547 rows x 3 columns]"
            ]
          },
          "metadata": {
            "tags": []
          },
          "execution_count": 19
        }
      ]
    },
    {
      "cell_type": "code",
      "metadata": {
        "id": "usj0mgg-7D37",
        "colab_type": "code",
        "colab": {
          "base_uri": "https://localhost:8080/",
          "height": 202
        },
        "outputId": "1ed8f110-781e-4eaa-fe2a-5ad1201124cc"
      },
      "source": [
        "clean_review = []\n",
        "for i in data['review']:\n",
        "  j = re.sub(r'[^\\w\\s]','', i)\n",
        "  clean_review.append(j)\n",
        "data['review word number'] = [len(tokenizer.tokenize(i)) for i in clean_review]\n",
        "data.head()"
      ],
      "execution_count": 48,
      "outputs": [
        {
          "output_type": "execute_result",
          "data": {
            "text/html": [
              "<div>\n",
              "<style scoped>\n",
              "    .dataframe tbody tr th:only-of-type {\n",
              "        vertical-align: middle;\n",
              "    }\n",
              "\n",
              "    .dataframe tbody tr th {\n",
              "        vertical-align: top;\n",
              "    }\n",
              "\n",
              "    .dataframe thead th {\n",
              "        text-align: right;\n",
              "    }\n",
              "</style>\n",
              "<table border=\"1\" class=\"dataframe\">\n",
              "  <thead>\n",
              "    <tr style=\"text-align: right;\">\n",
              "      <th></th>\n",
              "      <th>review</th>\n",
              "      <th>title</th>\n",
              "      <th>target</th>\n",
              "      <th>review word number</th>\n",
              "    </tr>\n",
              "  </thead>\n",
              "  <tbody>\n",
              "    <tr>\n",
              "      <th>0</th>\n",
              "      <td>The staff was very friendly, the breakfast ver...</td>\n",
              "      <td>Walker Gem</td>\n",
              "      <td>5</td>\n",
              "      <td>12</td>\n",
              "    </tr>\n",
              "    <tr>\n",
              "      <th>1</th>\n",
              "      <td>Excellent service - very approachable and prof...</td>\n",
              "      <td>Excellent Service</td>\n",
              "      <td>4</td>\n",
              "      <td>38</td>\n",
              "    </tr>\n",
              "    <tr>\n",
              "      <th>2</th>\n",
              "      <td>Really a top notch place to spend a day at the...</td>\n",
              "      <td>Good location, warm and friendly staff</td>\n",
              "      <td>5</td>\n",
              "      <td>60</td>\n",
              "    </tr>\n",
              "    <tr>\n",
              "      <th>3</th>\n",
              "      <td>a little noisy, there was a false fire alarm a...</td>\n",
              "      <td>nice hotel,</td>\n",
              "      <td>4</td>\n",
              "      <td>14</td>\n",
              "    </tr>\n",
              "    <tr>\n",
              "      <th>4</th>\n",
              "      <td>Place had too many animals and I'm allergic to...</td>\n",
              "      <td>Experience</td>\n",
              "      <td>3</td>\n",
              "      <td>45</td>\n",
              "    </tr>\n",
              "  </tbody>\n",
              "</table>\n",
              "</div>"
            ],
            "text/plain": [
              "                                              review  ... review word number\n",
              "0  The staff was very friendly, the breakfast ver...  ...                 12\n",
              "1  Excellent service - very approachable and prof...  ...                 38\n",
              "2  Really a top notch place to spend a day at the...  ...                 60\n",
              "3  a little noisy, there was a false fire alarm a...  ...                 14\n",
              "4  Place had too many animals and I'm allergic to...  ...                 45\n",
              "\n",
              "[5 rows x 4 columns]"
            ]
          },
          "metadata": {
            "tags": []
          },
          "execution_count": 48
        }
      ]
    },
    {
      "cell_type": "code",
      "metadata": {
        "id": "CC7sJ4xZAaZZ",
        "colab_type": "code",
        "colab": {}
      },
      "source": [
        "data = data.drop(columns=['word number'])"
      ],
      "execution_count": 0,
      "outputs": []
    },
    {
      "cell_type": "code",
      "metadata": {
        "id": "Hnl22rdXBjKQ",
        "colab_type": "code",
        "colab": {}
      },
      "source": [
        "lemmatizer = WordNetLemmatizer()\n",
        "\n",
        "lemm_review = []\n",
        "for i in clean_review:\n",
        "  arr = tokenizer.tokenize(i) \n",
        "  new_arr = []\n",
        "  text = ''\n",
        "  for j in arr: \n",
        "    word = j.lower()\n",
        "    if word not in english_stopwords:\n",
        "      new_arr.append(lemmatizer.lemmatize(word))\n",
        "  text = ' '.join(new_arr)\n",
        "  lemm_review.append(text)\n",
        "data['lemmas review'] = [i for i in lemm_review]"
      ],
      "execution_count": 0,
      "outputs": []
    },
    {
      "cell_type": "code",
      "metadata": {
        "id": "wakz0_hVEQdg",
        "colab_type": "code",
        "colab": {}
      },
      "source": [
        "data.head()"
      ],
      "execution_count": 0,
      "outputs": []
    },
    {
      "cell_type": "code",
      "metadata": {
        "id": "U1ZNpqu0Razj",
        "colab_type": "code",
        "colab": {
          "base_uri": "https://localhost:8080/",
          "height": 72
        },
        "outputId": "8abbcff6-c7ae-457f-9ba5-6e723135f5f5"
      },
      "source": [
        "from gensim.test.utils import common_texts\n",
        "from gensim.models.doc2vec import Doc2Vec, TaggedDocument\n",
        "\n",
        "documents = [TaggedDocument(doc, [i]) for i, doc in enumerate(common_texts)]\n",
        "model = Doc2Vec(documents, vector_size=5, window=2, min_count=1, workers=4)\n",
        "\n",
        "from gensim.test.utils import get_tmpfile\n",
        "\n",
        "fname = get_tmpfile(\"my_doc2vec_model\")\n",
        "\n",
        "model.save(fname)\n",
        "model = Doc2Vec.load(fname)  # you can continue training with the loaded model!"
      ],
      "execution_count": 80,
      "outputs": [
        {
          "output_type": "stream",
          "text": [
            "/usr/local/lib/python3.6/dist-packages/smart_open/smart_open_lib.py:410: UserWarning: This function is deprecated, use smart_open.open instead. See the migration notes for details: https://github.com/RaRe-Technologies/smart_open/blob/master/README.rst#migrating-to-the-new-open-function\n",
            "  'See the migration notes for details: %s' % _MIGRATION_NOTES_URL\n"
          ],
          "name": "stderr"
        }
      ]
    },
    {
      "cell_type": "code",
      "metadata": {
        "id": "Fl3Ac6KcReXq",
        "colab_type": "code",
        "colab": {}
      },
      "source": [
        "model.delete_temporary_training_data(keep_doctags_vectors=True, keep_inference=True)"
      ],
      "execution_count": 0,
      "outputs": []
    },
    {
      "cell_type": "code",
      "metadata": {
        "id": "7mm6HiJrRrPl",
        "colab_type": "code",
        "colab": {}
      },
      "source": [
        "data['vec_review'] = [np.array(model.infer_vector(i.split())) for i in data['lemmas review']]"
      ],
      "execution_count": 0,
      "outputs": []
    },
    {
      "cell_type": "code",
      "metadata": {
        "id": "KkTRE1fKSc2M",
        "colab_type": "code",
        "colab": {}
      },
      "source": [
        "data['vec_title'] = [np.array(model.infer_vector(i.lower().split())) for i in data['title']]"
      ],
      "execution_count": 0,
      "outputs": []
    },
    {
      "cell_type": "code",
      "metadata": {
        "id": "rU2Al6yDSXap",
        "colab_type": "code",
        "colab": {
          "base_uri": "https://localhost:8080/",
          "height": 410
        },
        "outputId": "eff800eb-fb30-4a23-88e8-d090a923a0b6"
      },
      "source": [
        "data.head()"
      ],
      "execution_count": 115,
      "outputs": [
        {
          "output_type": "execute_result",
          "data": {
            "text/html": [
              "<div>\n",
              "<style scoped>\n",
              "    .dataframe tbody tr th:only-of-type {\n",
              "        vertical-align: middle;\n",
              "    }\n",
              "\n",
              "    .dataframe tbody tr th {\n",
              "        vertical-align: top;\n",
              "    }\n",
              "\n",
              "    .dataframe thead th {\n",
              "        text-align: right;\n",
              "    }\n",
              "</style>\n",
              "<table border=\"1\" class=\"dataframe\">\n",
              "  <thead>\n",
              "    <tr style=\"text-align: right;\">\n",
              "      <th></th>\n",
              "      <th>review</th>\n",
              "      <th>title</th>\n",
              "      <th>target</th>\n",
              "      <th>review word number</th>\n",
              "      <th>lemmas review</th>\n",
              "      <th>vec_review</th>\n",
              "      <th>vec_title</th>\n",
              "    </tr>\n",
              "  </thead>\n",
              "  <tbody>\n",
              "    <tr>\n",
              "      <th>0</th>\n",
              "      <td>The staff was very friendly, the breakfast ver...</td>\n",
              "      <td>Walker Gem</td>\n",
              "      <td>5</td>\n",
              "      <td>12</td>\n",
              "      <td>staff friendly breakfast nice extremely comfor...</td>\n",
              "      <td>[0.010194686, 0.016370963, 0.093328126, -0.091...</td>\n",
              "      <td>[0.04870353, -0.075052395, -0.027693031, -0.02...</td>\n",
              "    </tr>\n",
              "    <tr>\n",
              "      <th>1</th>\n",
              "      <td>Excellent service - very approachable and prof...</td>\n",
              "      <td>Excellent Service</td>\n",
              "      <td>4</td>\n",
              "      <td>38</td>\n",
              "      <td>excellent service approachable professional st...</td>\n",
              "      <td>[0.061459873, 0.01002281, -0.01876115, -0.0216...</td>\n",
              "      <td>[0.041421738, 0.04850113, 0.0860733, 0.0072168...</td>\n",
              "    </tr>\n",
              "    <tr>\n",
              "      <th>2</th>\n",
              "      <td>Really a top notch place to spend a day at the...</td>\n",
              "      <td>Good location, warm and friendly staff</td>\n",
              "      <td>5</td>\n",
              "      <td>60</td>\n",
              "      <td>really top notch place spend day beginning end...</td>\n",
              "      <td>[0.041237194, -0.013673915, -0.0091772005, -0....</td>\n",
              "      <td>[-0.029623618, 0.04343617, -0.07957134, -0.029...</td>\n",
              "    </tr>\n",
              "    <tr>\n",
              "      <th>3</th>\n",
              "      <td>a little noisy, there was a false fire alarm a...</td>\n",
              "      <td>nice hotel,</td>\n",
              "      <td>4</td>\n",
              "      <td>14</td>\n",
              "      <td>little noisy false fire alarm midnight reason ...</td>\n",
              "      <td>[-0.05035006, 0.023602638, -0.09586342, 0.0674...</td>\n",
              "      <td>[-0.0021660826, -0.011124977, 0.005384014, -0....</td>\n",
              "    </tr>\n",
              "    <tr>\n",
              "      <th>4</th>\n",
              "      <td>Place had too many animals and I'm allergic to...</td>\n",
              "      <td>Experience</td>\n",
              "      <td>3</td>\n",
              "      <td>45</td>\n",
              "      <td>place many animal im allergic petsalthough rec...</td>\n",
              "      <td>[0.0961574, -0.012306325, 0.029194854, -0.0510...</td>\n",
              "      <td>[0.05104129, -0.061222367, 0.07374523, -0.0076...</td>\n",
              "    </tr>\n",
              "  </tbody>\n",
              "</table>\n",
              "</div>"
            ],
            "text/plain": [
              "                                              review  ...                                          vec_title\n",
              "0  The staff was very friendly, the breakfast ver...  ...  [0.04870353, -0.075052395, -0.027693031, -0.02...\n",
              "1  Excellent service - very approachable and prof...  ...  [0.041421738, 0.04850113, 0.0860733, 0.0072168...\n",
              "2  Really a top notch place to spend a day at the...  ...  [-0.029623618, 0.04343617, -0.07957134, -0.029...\n",
              "3  a little noisy, there was a false fire alarm a...  ...  [-0.0021660826, -0.011124977, 0.005384014, -0....\n",
              "4  Place had too many animals and I'm allergic to...  ...  [0.05104129, -0.061222367, 0.07374523, -0.0076...\n",
              "\n",
              "[5 rows x 7 columns]"
            ]
          },
          "metadata": {
            "tags": []
          },
          "execution_count": 115
        }
      ]
    },
    {
      "cell_type": "code",
      "metadata": {
        "id": "Nz2vvJ1yMAgB",
        "colab_type": "code",
        "colab": {
          "base_uri": "https://localhost:8080/",
          "height": 35
        },
        "outputId": "848d9660-0f54-4acd-9210-54debaaad0f3"
      },
      "source": [
        "data_train = data[:48192]\n",
        "data_train.shape"
      ],
      "execution_count": 116,
      "outputs": [
        {
          "output_type": "execute_result",
          "data": {
            "text/plain": [
              "(48192, 7)"
            ]
          },
          "metadata": {
            "tags": []
          },
          "execution_count": 116
        }
      ]
    },
    {
      "cell_type": "code",
      "metadata": {
        "id": "guhkmzrbNEq7",
        "colab_type": "code",
        "colab": {
          "base_uri": "https://localhost:8080/",
          "height": 35
        },
        "outputId": "a95910f4-e840-44c5-cfe7-94accc994457"
      },
      "source": [
        "data_test = data[:5355]\n",
        "data_test.shape"
      ],
      "execution_count": 117,
      "outputs": [
        {
          "output_type": "execute_result",
          "data": {
            "text/plain": [
              "(5355, 7)"
            ]
          },
          "metadata": {
            "tags": []
          },
          "execution_count": 117
        }
      ]
    },
    {
      "cell_type": "code",
      "metadata": {
        "id": "Dky03nNCNRrv",
        "colab_type": "code",
        "colab": {}
      },
      "source": [
        "from sklearn.pipeline import Pipeline\n",
        "from sklearn.linear_model import LogisticRegressionCV\n",
        "from sklearn.preprocessing import LabelEncoder\n",
        "from sklearn.model_selection import GridSearchCV\n",
        "from sklearn.ensemble import RandomForestClassifier\n",
        "import scipy.sparse as sp"
      ],
      "execution_count": 0,
      "outputs": []
    },
    {
      "cell_type": "code",
      "metadata": {
        "id": "JIwVirzEWcGv",
        "colab_type": "code",
        "colab": {}
      },
      "source": [
        "from sklearn import metrics"
      ],
      "execution_count": 0,
      "outputs": []
    },
    {
      "cell_type": "code",
      "metadata": {
        "id": "Ni_DkUFqNe8G",
        "colab_type": "code",
        "colab": {
          "base_uri": "https://localhost:8080/",
          "height": 121
        },
        "outputId": "80ff6645-a186-4500-9cf0-58c8ecfbe437"
      },
      "source": [
        "X_train = data_train[['review word number']]\n",
        "y_train = data_train['target']\n",
        "\n",
        "param = [{'n_estimators': [15, 30, 45, 60]}]\n",
        "\n",
        "#rf_classifier = RandomForestClassifier(random_state=SEED)\n",
        "lr_model = LogisticRegressionCV(Cs=5, cv=5, n_jobs=-1, scoring='f1_macro', penalty='l2', solver='newton-cg', multi_class='multinomial', random_state=SEED)\n",
        "#grid_search = GridSearchCV(rf_classifier, param, n_jobs=-1, cv=5, \n",
        "                           #scoring='f1_macro', verbose=1)\n",
        "#grid_search.fit(X_train, y_train)\n",
        "\n",
        "lr_model.fit(X_train, y_train)"
      ],
      "execution_count": 124,
      "outputs": [
        {
          "output_type": "execute_result",
          "data": {
            "text/plain": [
              "LogisticRegressionCV(Cs=5, class_weight=None, cv=5, dual=False,\n",
              "                     fit_intercept=True, intercept_scaling=1.0, l1_ratios=None,\n",
              "                     max_iter=100, multi_class='multinomial', n_jobs=-1,\n",
              "                     penalty='l2', random_state=1337, refit=True,\n",
              "                     scoring='f1_macro', solver='newton-cg', tol=0.0001,\n",
              "                     verbose=0)"
            ]
          },
          "metadata": {
            "tags": []
          },
          "execution_count": 124
        }
      ]
    },
    {
      "cell_type": "code",
      "metadata": {
        "id": "kPCMBLS6VtML",
        "colab_type": "code",
        "colab": {}
      },
      "source": [
        "target_pred = lr_model.predict(data_test[['review word number']])"
      ],
      "execution_count": 0,
      "outputs": []
    },
    {
      "cell_type": "code",
      "metadata": {
        "id": "hNYx2yNNV6nd",
        "colab_type": "code",
        "colab": {
          "base_uri": "https://localhost:8080/",
          "height": 35
        },
        "outputId": "2284e3ef-9c4d-4b04-87f0-3199f796e603"
      },
      "source": [
        "metrics.f1_score(target_pred, data_test['target'], average='macro')"
      ],
      "execution_count": 108,
      "outputs": [
        {
          "output_type": "execute_result",
          "data": {
            "text/plain": [
              "0.12040912200075833"
            ]
          },
          "metadata": {
            "tags": []
          },
          "execution_count": 108
        }
      ]
    },
    {
      "cell_type": "code",
      "metadata": {
        "id": "B1F6JYLMbbdy",
        "colab_type": "code",
        "colab": {
          "base_uri": "https://localhost:8080/",
          "height": 121
        },
        "outputId": "1a99e5c3-973c-445d-c4c0-02080195c38e"
      },
      "source": [
        "# НУ ПОЧЕМУ С ВЕКТОРАМИ НЕ РАБОТАЕТ!!!!!!...............\n",
        "\n",
        "for_rev = np.vstack(data_train['vec_review'])\n",
        "for_title = np.vstack(data_train['vec_title'])\n",
        "X_train = np.hstack([for_rev, for_title])\n",
        "y_train = data_train['target']\n",
        "\n",
        "param = [{'n_estimators': [15, 30, 45, 60]}]\n",
        "\n",
        "#rf_classifier = RandomForestClassifier(random_state=SEED)\n",
        "lr_model = LogisticRegressionCV(Cs=5, cv=5, n_jobs=-1, scoring='f1_macro', penalty='l2', solver='newton-cg', multi_class='multinomial', random_state=SEED)\n",
        "#grid_search = GridSearchCV(rf_classifier, param, n_jobs=-1, cv=5, \n",
        "                           #scoring='f1_macro', verbose=1)\n",
        "#grid_search.fit(X_train, y_train)\n",
        "\n",
        "lr_model.fit(X_train, y_train)"
      ],
      "execution_count": 137,
      "outputs": [
        {
          "output_type": "execute_result",
          "data": {
            "text/plain": [
              "LogisticRegressionCV(Cs=5, class_weight=None, cv=5, dual=False,\n",
              "                     fit_intercept=True, intercept_scaling=1.0, l1_ratios=None,\n",
              "                     max_iter=100, multi_class='multinomial', n_jobs=-1,\n",
              "                     penalty='l2', random_state=1337, refit=True,\n",
              "                     scoring='f1_macro', solver='newton-cg', tol=0.0001,\n",
              "                     verbose=0)"
            ]
          },
          "metadata": {
            "tags": []
          },
          "execution_count": 137
        }
      ]
    },
    {
      "cell_type": "code",
      "metadata": {
        "id": "l_jdy2KicWWC",
        "colab_type": "code",
        "colab": {}
      },
      "source": [
        "for_rev_test = np.vstack(data_test['vec_review'])\n",
        "for_title_test = np.vstack(data_test['vec_title'])\n",
        "\n",
        "target_pred = lr_model.predict(np.hstack([for_rev_test, for_title_test]))"
      ],
      "execution_count": 0,
      "outputs": []
    },
    {
      "cell_type": "code",
      "metadata": {
        "id": "nzBsQlO5ccQV",
        "colab_type": "code",
        "colab": {
          "base_uri": "https://localhost:8080/",
          "height": 35
        },
        "outputId": "70885de9-b0bb-4eef-dfbf-82c545f6b817"
      },
      "source": [
        "metrics.f1_score(target_pred, data_test['target'], average='macro')"
      ],
      "execution_count": 143,
      "outputs": [
        {
          "output_type": "execute_result",
          "data": {
            "text/plain": [
              "0.11617861401881543"
            ]
          },
          "metadata": {
            "tags": []
          },
          "execution_count": 143
        }
      ]
    }
  ]
}